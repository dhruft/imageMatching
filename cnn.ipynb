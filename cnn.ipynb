{
 "cells": [
  {
   "cell_type": "code",
   "execution_count": 12,
   "metadata": {},
   "outputs": [
    {
     "name": "stdout",
     "output_type": "stream",
     "text": [
      "(2,)\n"
     ]
    },
    {
     "name": "stderr",
     "output_type": "stream",
     "text": [
      "/tmp/ipykernel_21434/4082579084.py:10: VisibleDeprecationWarning: Creating an ndarray from ragged nested sequences (which is a list-or-tuple of lists-or-tuples-or ndarrays with different lengths or shapes) is deprecated. If you meant to do this, you must specify 'dtype=object' when creating the ndarray.\n",
      "  X = np.array([np.asarray(Image.open('data/images/bottle1.png')), np.asarray(Image.open('data/images/bottle2.png'))])\n"
     ]
    }
   ],
   "source": [
    "from PIL import Image\n",
    "import numpy as np\n",
    "from sklearn.model_selection import train_test_split\n",
    "\n",
    "# Load the data\n",
    "def load_data():\n",
    "    x_names = [\"bottle\", \"discord\", \"dog\", \"joystick\"]\n",
    "\n",
    "    # Load the data\n",
    "    X = np.ndarray(shape=(2,), dtype=float, order='F')\n",
    "    #X = np.array([np.asarray(Image.open('data/images/bottle1.png')), np.asarray(Image.open('data/images/bottle2.png'))])\n",
    "    print(X.shape)\n",
    "\n",
    "    y_vals = np.array([85, 99, 75, 45])\n",
    "\n",
    "    # y = np.load('data/y.npy')\n",
    "\n",
    "    # # Split the data\n",
    "    # X_train, X_test, y_train, y_test = train_test_split(X, y, test_size=0.2, random_state=0)\n",
    "\n",
    "    # # Reshape the data\n",
    "    # X_train = X_train.reshape(X_train.shape[0], 1, 28, 28)\n",
    "    # X_test = X_test.reshape(X_test.shape[0], 1, 28, 28)\n",
    "\n",
    "    # return X_train, X_test, y_train, y_test\n",
    "\n",
    "load_data()\n",
    "\n",
    "# x_train = []\n",
    "# y_train = y_vals[:len(y_vals)/2]\n",
    "\n",
    "# x_test = []\n",
    "# y_test = [len(y_vals)/2:]\n",
    "\n",
    "# for x in x_names[:len(y_names)/2]:\n",
    "#     x_train.append(np.asarray(Image.open(f\"{x}.png\")))\n",
    "\n",
    "# for x in x_names[len(y_names)/2:]:\n",
    "#     test.append(np.asarray(Image.open(f\"{x}.png\")))\n"
   ]
  }
 ],
 "metadata": {
  "kernelspec": {
   "display_name": "Python 3.10.6 ('venv': venv)",
   "language": "python",
   "name": "python3"
  },
  "language_info": {
   "name": "python",
   "version": "3.10.6"
  },
  "orig_nbformat": 4,
  "vscode": {
   "interpreter": {
    "hash": "f7c5c44714600a554e555cd56b0750399405407983520d31167a14ca6f117320"
   }
  }
 },
 "nbformat": 4,
 "nbformat_minor": 2
}
