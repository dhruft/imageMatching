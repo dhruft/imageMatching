{
 "cells": [
  {
   "cell_type": "code",
   "execution_count": null,
   "metadata": {},
   "outputs": [
    {
     "ename": "",
     "evalue": "",
     "output_type": "error",
     "traceback": [
      "\u001b[1;31mFailed to start the Kernel. \n",
      "\u001b[1;31mView Jupyter <a href='command:jupyter.viewOutput'>log</a> for further details."
     ]
    }
   ],
   "source": [
    "import imagehash\n",
    "from PIL import Image\n",
    "\n",
    "images = [\"bottle\", \"discord\", \"dog\", \"joystick\"]\n",
    "\n",
    "for i in range(len(images)):\n",
    "    hash1 = imagehash.average_hash(Image.open(f'./data/images/{images[i]}1.png'))\n",
    "    hash2 = imagehash.average_hash(Image.open(f'./data/images/{images[i]}2.png'))\n",
    "    diff = hash1 - hash2\n",
    "    print(images[i], diff)"
   ]
  }
 ],
 "metadata": {
  "kernelspec": {
   "display_name": "Python 3.10.6 ('venv': venv)",
   "language": "python",
   "name": "python3"
  },
  "language_info": {
   "name": "python",
   "version": "3.10.6"
  },
  "orig_nbformat": 4,
  "vscode": {
   "interpreter": {
    "hash": "f7c5c44714600a554e555cd56b0750399405407983520d31167a14ca6f117320"
   }
  }
 },
 "nbformat": 4,
 "nbformat_minor": 2
}
